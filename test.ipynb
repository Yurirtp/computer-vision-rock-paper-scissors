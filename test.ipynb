{
 "cells": [
  {
   "cell_type": "code",
   "execution_count": 5,
   "metadata": {},
   "outputs": [
    {
     "name": "stdout",
     "output_type": "stream",
     "text": [
      "The computer picked scissors, you picked rock\n",
      "You won!\n",
      "The computer picked scissors, you picked rock\n",
      "You won!\n",
      "The computer picked paper, you picked rock\n",
      "You lost\n",
      "The computer picked rock, you picked rock\n",
      "It is a tie!\n",
      "The computer picked scissors, you picked rock\n",
      "You won!\n",
      "Congratulations the User Wins!\n",
      "Final scores are: Computer 1 VS. You 3\n"
     ]
    }
   ],
   "source": [
    "import random\n",
    "\n",
    "\n",
    "class rock_paper_scissors:\n",
    "    def __init__(self, comp_list):\n",
    "        self.comp_list = comp_list\n",
    "        self.computer_wins = 0\n",
    "        self.user_wins = 0\n",
    "\n",
    "    def get_user_choice(self):\n",
    "        user_choice = input(\"Play\")\n",
    "        return user_choice\n",
    "              \n",
    "\n",
    "    def get_computer_choice(self):\n",
    "        computer_choice = random.choice(self.comp_list)\n",
    "        return computer_choice\n",
    "\n",
    "\n",
    "    def get_winner(self, computer_choice, user_choice):\n",
    "        print(f\"The computer picked {computer_choice}, you picked {user_choice}\")\n",
    "        if (computer_choice == \"rock\" and user_choice == \"paper\") or (computer_choice == \"paper\" and user_choice == \"scissors\") or (computer_choice == \"scissors\" and user_choice == \"rock\"):\n",
    "            result = \"You won!\"\n",
    "            self.user_wins = self.user_wins + 1 \n",
    "            pass\n",
    "        elif (computer_choice == \"paper\" and user_choice == \"rock\") or (computer_choice == \"scissors\" and user_choice == \"paper\") or (computer_choice == \"rock\" and user_choice == \"scissors\"):\n",
    "            result = \"You lost\"\n",
    "            self.computer_wins = self.computer_wins + 1\n",
    "            pass\n",
    "        else: result = (\"It is a tie!\")\n",
    "        pass\n",
    "        print(result)\n",
    "        \n",
    "\n",
    "def play(comp_list = ['rock','paper','scissors']):\n",
    "\n",
    "    xro = rock_paper_scissors(comp_list)\n",
    "    wins = 0\n",
    "    winz = 0\n",
    "    while True:\n",
    "            computer_choice = xro.get_computer_choice()\n",
    "            user_choice = xro.get_user_choice()\n",
    "            xro.get_winner(computer_choice, user_choice)\n",
    "            wins = xro.computer_wins\n",
    "            winz = xro.user_wins\n",
    "            if wins == 3 and wins > winz:\n",
    "                print(\"Computer is the winner!\")\n",
    "                break\n",
    "            elif winz == 3 and winz > wins:\n",
    "                print(\"Congratulations the User Wins!\")\n",
    "                break\n",
    "    print(f\"Final scores are: Computer {wins} VS. You {winz}\")\n",
    "\n",
    "\n",
    "play()\n",
    "        "
   ]
  }
 ],
 "metadata": {
  "kernelspec": {
   "display_name": "Python 3.9.13 ('base')",
   "language": "python",
   "name": "python3"
  },
  "language_info": {
   "codemirror_mode": {
    "name": "ipython",
    "version": 3
   },
   "file_extension": ".py",
   "mimetype": "text/x-python",
   "name": "python",
   "nbconvert_exporter": "python",
   "pygments_lexer": "ipython3",
   "version": "3.9.13"
  },
  "orig_nbformat": 4,
  "vscode": {
   "interpreter": {
    "hash": "b088b0735cf1bb78b1692d859b66fe172702674ac068ffd05b959ef5f9b63c35"
   }
  }
 },
 "nbformat": 4,
 "nbformat_minor": 2
}
